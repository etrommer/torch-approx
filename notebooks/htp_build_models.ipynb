{
 "cells": [
  {
   "cell_type": "code",
   "execution_count": 1,
   "metadata": {},
   "outputs": [],
   "source": [
    "import numpy as np\n",
    "import matplotlib.pyplot as plt\n",
    "import sklearn\n",
    "import pandas as pd\n",
    "import pkgutil\n",
    "import importlib\n",
    "import tqdm"
   ]
  },
  {
   "cell_type": "code",
   "execution_count": 4,
   "metadata": {},
   "outputs": [
    {
     "data": {
      "text/plain": [
       "[ApproximateMultiplier(name='mul8s_1KV6', performance_metric=0.425, error_map=array([[0, 0, 0, ..., 0, 0, 0],\n",
       "        [0, 0, 0, ..., 0, 0, 0],\n",
       "        [0, 0, 0, ..., 0, 0, 0],\n",
       "        ...,\n",
       "        [0, 0, 0, ..., 0, 0, 0],\n",
       "        [0, 0, 0, ..., 0, 0, 0],\n",
       "        [0, 0, 0, ..., 0, 0, 0]])),\n",
       " ApproximateMultiplier(name='mul8s_1KV8', performance_metric=0.422, error_map=array([[ 0,  0,  0, ...,  0,  0,  0],\n",
       "        [ 0, -1, -2, ..., -1, -2, -3],\n",
       "        [ 0, -2,  0, ..., -2,  0, -2],\n",
       "        ...,\n",
       "        [ 0, -1, -2, ..., -1, -2, -3],\n",
       "        [ 0, -2,  0, ..., -2,  0, -2],\n",
       "        [ 0, -3, -2, ..., -3, -2, -5]])),\n",
       " ApproximateMultiplier(name='mul8s_1KV9', performance_metric=0.41, error_map=array([[  0,   0,   0, ...,   0,   0,   0],\n",
       "        [  0,  -1,  -2, ...,  -5,  -6,  -7],\n",
       "        [  0,  -2,  -4, ...,  -2,  -4,  -6],\n",
       "        ...,\n",
       "        [  0,  -5,  -2, ...,  -9,  -6, -11],\n",
       "        [  0,  -6,  -4, ...,  -6,  -4, -10],\n",
       "        [  0,  -7,  -6, ..., -11, -10, -17]])),\n",
       " ApproximateMultiplier(name='mul8s_1KVA', performance_metric=0.391, error_map=array([[  0,   0,   0, ...,   0,   0,   0],\n",
       "        [  0,  -1,  -2, ..., -13, -14, -15],\n",
       "        [  0,  -2,  -4, ..., -10, -12, -14],\n",
       "        ...,\n",
       "        [  0, -13, -10, ..., -25, -22, -35],\n",
       "        [  0, -14, -12, ..., -22, -20, -34],\n",
       "        [  0, -15, -14, ..., -35, -34, -49]])),\n",
       " ApproximateMultiplier(name='mul8s_1KVM', performance_metric=0.369, error_map=array([[   0,    0,    0, ...,    0,    0,    0],\n",
       "        [ 128,  127,  126, ..., -125, -126, -127],\n",
       "        [   0,    0,    0, ...,    0,    0,    0],\n",
       "        ...,\n",
       "        [ 128,  127,  126, ..., -125, -126, -127],\n",
       "        [   0,    0,    0, ...,    0,    0,    0],\n",
       "        [ 128,  127,  126, ..., -125, -126, -127]])),\n",
       " ApproximateMultiplier(name='mul8s_1KVP', performance_metric=0.363, error_map=array([[   0,    0,    0, ...,    0,    0,    0],\n",
       "        [ 128,  127,  126, ..., -125, -126, -127],\n",
       "        [   0,   -2,   -4, ...,   -2,   -4,   -6],\n",
       "        ...,\n",
       "        [ 128,  123,  126, ..., -129, -126, -131],\n",
       "        [   0,   -6,   -4, ...,   -6,   -4,  -10],\n",
       "        [ 128,  121,  122, ..., -131, -130, -137]])),\n",
       " ApproximateMultiplier(name='mul8s_1KVQ', performance_metric=0.351, error_map=array([[   0,    0,    0, ...,    0,    0,    0],\n",
       "        [ 128,  127,  126, ..., -125, -126, -127],\n",
       "        [   0,   -2,   -4, ...,  -10,  -12,  -14],\n",
       "        ...,\n",
       "        [ 128,  115,  118, ..., -137, -134, -147],\n",
       "        [   0,  -14,  -12, ...,  -22,  -20,  -34],\n",
       "        [ 128,  113,  114, ..., -147, -146, -161]])),\n",
       " ApproximateMultiplier(name='mul8s_1KX5', performance_metric=0.289, error_map=array([[   0,    0,    0, ...,    0,    0,    0],\n",
       "        [ 128,  127,  126, ..., -125, -126, -127],\n",
       "        [ 256,  254,  252, ..., -250, -252, -254],\n",
       "        ...,\n",
       "        [ 128,   99,  102, ..., -169, -166, -195],\n",
       "        [ 256,  226,  228, ..., -294, -292, -322],\n",
       "        [ 384,  353,  354, ..., -419, -418, -449]])),\n",
       " ApproximateMultiplier(name='mul8s_1KXF', performance_metric=0.237, error_map=array([[   0,    0,    0, ...,    0,    0,    0],\n",
       "        [ 128,  127,  126, ..., -125, -126, -127],\n",
       "        [ 256,  254,  252, ..., -250, -252, -254],\n",
       "        ...,\n",
       "        [ 640,  635,  630, ..., -625, -630, -635],\n",
       "        [ 768,  762,  756, ..., -750, -756, -762],\n",
       "        [ 896,  889,  882, ..., -875, -882, -889]])),\n",
       " ApproximateMultiplier(name='mul8s_1L12', performance_metric=0.052, error_map=array([[    0,     0,     0, ...,     0,     0,     0],\n",
       "        [  128,   127,   126, ...,  -125,  -126,  -127],\n",
       "        [  256,   254,   252, ...,  -250,  -252,  -254],\n",
       "        ...,\n",
       "        [ 7808,  7747,  7686, ..., -7625, -7686, -7747],\n",
       "        [ 7936,  7874,  7812, ..., -7750, -7812, -7874],\n",
       "        [ 8064,  8001,  7938, ..., -7875, -7938, -8001]])),\n",
       " ApproximateMultiplier(name='mul8s_1L2J', performance_metric=0.301, error_map=array([[   0,  128,    0, ...,  128,    0,  128],\n",
       "        [ 128,  255,  126, ...,    3, -126,    1],\n",
       "        [   0,  126,    0, ...,  126,    0,  126],\n",
       "        ...,\n",
       "        [ 128,    3,  126, ..., -249, -126, -251],\n",
       "        [   0, -126,    0, ..., -126,    0, -126],\n",
       "        [ 128,    1,  126, ..., -251, -126, -253]])),\n",
       " ApproximateMultiplier(name='mul8s_1L2L', performance_metric=0.2, error_map=array([[   0,  128,  256, ...,  128,  256,  384],\n",
       "        [ 128,  255,  382, ...,    3,  130,  257],\n",
       "        [ 256,  382,  508, ..., -122,    4,  130],\n",
       "        ...,\n",
       "        [ 128,    3, -122, ..., -249, -374, -499],\n",
       "        [ 256,  130,    4, ..., -374, -500, -626],\n",
       "        [ 384,  257,  130, ..., -499, -626, -753]])),\n",
       " ApproximateMultiplier(name='mul8s_1L2N', performance_metric=0.126, error_map=array([[    0,   128,   256, ...,   640,   768,   896],\n",
       "        [  128,   255,   382, ...,   515,   642,   769],\n",
       "        [  256,   382,   508, ...,   390,   516,   642],\n",
       "        ...,\n",
       "        [  640,   515,   390, ..., -1225, -1350, -1475],\n",
       "        [  768,   642,   516, ..., -1350, -1476, -1602],\n",
       "        [  896,   769,   642, ..., -1475, -1602, -1729]]))]"
      ]
     },
     "execution_count": 4,
     "metadata": {},
     "output_type": "execute_result"
    }
   ],
   "source": [
    "from torchapprox.utils.evoapprox import search_space\n",
    "search_space()"
   ]
  },
  {
   "cell_type": "code",
   "execution_count": 41,
   "metadata": {},
   "outputs": [
    {
     "name": "stdout",
     "output_type": "stream",
     "text": [
      "mul8s_1KV6\n",
      "mul8s_1KV8\n",
      "mul8s_1KV9\n",
      "mul8s_1KVA\n",
      "mul8s_1KVM\n",
      "mul8s_1KVP\n",
      "mul8s_1KVQ\n",
      "mul8s_1KX5\n",
      "mul8s_1KXF\n",
      "mul8s_1L12\n",
      "mul8s_1L2J\n",
      "mul8s_1L2L\n",
      "mul8s_1L2N\n"
     ]
    }
   ],
   "source": [
    "import evoapproxlib as eal\n",
    "multipliers = [m.name for m in pkgutil.iter_modules(eal.__path__) if 'mul8s_' in m.name]\n",
    "attrs = ['MAE_PERCENT', 'MAE', 'WCE_PERCENT', 'WCE', 'WCRE_PERCENT', 'EP_PERCENT', 'MRE_PERCENT', 'MSE', 'PDK45_PWR', 'PDK45_AREA', 'PDK45_DELAY']\n",
    "for m in multipliers:\n",
    "    print(m)"
   ]
  },
  {
   "cell_type": "code",
   "execution_count": 42,
   "metadata": {},
   "outputs": [],
   "source": [
    "def multiplier_output(multiplier, x, y, signed=True, bitwidth=8):\n",
    "    axmul = np.vectorize(multiplier.calc)\n",
    "    z = axmul(x, y)\n",
    "    if signed:\n",
    "        z[z >= 2**(2*bitwidth-1)] -= 2**(2*bitwidth)\n",
    "    return z"
   ]
  },
  {
   "cell_type": "code",
   "execution_count": 6,
   "metadata": {},
   "outputs": [],
   "source": [
    "from sklearn import linear_model\n",
    "from sklearn.preprocessing import PolynomialFeatures\n",
    "from sklearn.pipeline import Pipeline\n",
    "\n",
    "def sampled_features(bitwidth=16, num_samples=int(1e7)):\n",
    "    rng = np.random.default_rng(42)\n",
    "    x = np.sort(rng.integers(low=-2**(bitwidth-1), high=2**(bitwidth-1), size=num_samples))\n",
    "    y = np.sort(rng.integers(low=-2**(bitwidth-1), high=2**(bitwidth-1), size=num_samples))\n",
    "    return np.vstack([x, y]).T\n",
    "\n",
    "def base_features(bitwidth=8):\n",
    "    x = np.arange(-2**(bitwidth-1), 2**(bitwidth-1))\n",
    "    xx, yy = np.meshgrid(x, x, indexing='ij')\n",
    "    X = np.vstack([xx.flatten(), yy.flatten()]).T\n",
    "    return X\n",
    "\n",
    "def build_model(emap, expansions=[], prune=False, X=None):\n",
    "    def mod_features(X):\n",
    "        return np.hstack([X] + [X % sc for sc in expansions])\n",
    "\n",
    "    # Fit over entire output space\n",
    "    if X is None:\n",
    "        X = base_features()\n",
    "\n",
    "    # Build feature transformations\n",
    "    # Add Modulo features\n",
    "    features = mod_features(X)\n",
    "    # Polynomial Expansion\n",
    "    poly = PolynomialFeatures(degree=2, interaction_only=True)\n",
    "    features = poly.fit_transform(features)\n",
    "\n",
    "    # Build Model\n",
    "    reg = linear_model.LinearRegression()\n",
    "    reg = reg.fit(features, emap)\n",
    "    \n",
    "    # Drop small coefficients\n",
    "    if prune:\n",
    "        reg.coef_ = reg.coef_.round(decimals=1)\n",
    "\n",
    "    class Predictor():\n",
    "        def __init__(self, mod, poly, regressor):\n",
    "            self.mod_transform = mod\n",
    "            self.poly_transform = poly\n",
    "            self.regressor = regressor\n",
    "\n",
    "        def __call__(self, X):\n",
    "            features = self.mod_transform(X)\n",
    "            features = self.poly_transform.fit_transform(features)\n",
    "            return self.regressor.predict(features)\n",
    "\n",
    "    return Predictor(mod_features, poly, reg)"
   ]
  },
  {
   "cell_type": "code",
   "execution_count": 7,
   "metadata": {},
   "outputs": [],
   "source": [
    "def wce(emap, model_output):\n",
    "    ans = np.abs(emap-model_output)\n",
    "    return np.max(ans)\n",
    "\n",
    "def mae(emap, model_output):\n",
    "    ans = np.abs(emap-model_output)\n",
    "    return np.mean(ans)\n",
    "\n",
    "def mre(emap, model_output):\n",
    "    ans = np.abs(emap-model_output)\n",
    "    div = np.maximum(np.ones_like(ans), ans)\n",
    "    return np.mean(ans/div)"
   ]
  },
  {
   "cell_type": "code",
   "execution_count": 8,
   "metadata": {},
   "outputs": [
    {
     "name": "stderr",
     "output_type": "stream",
     "text": [
      "  0%|          | 0/13 [00:00<?, ?it/s]"
     ]
    },
    {
     "name": "stdout",
     "output_type": "stream",
     "text": [
      "0.0 0.0\n",
      "0.0 0.0\n",
      "0.0 0.0\n",
      "0.0 0.0\n",
      "0.0 0.0\n",
      "0.0 0.0\n",
      "0.0 0.0\n",
      "0.0 0.0\n",
      "0.0 0.0\n"
     ]
    },
    {
     "name": "stderr",
     "output_type": "stream",
     "text": [
      "/tmp/ipykernel_19464/2663871624.py:19: RuntimeWarning: divide by zero encountered in remainder\n",
      "  return np.hstack([X] + [X % sc for sc in expansions])\n",
      "/tmp/ipykernel_19464/2663871624.py:19: RuntimeWarning: divide by zero encountered in remainder\n",
      "  return np.hstack([X] + [X % sc for sc in expansions])\n",
      "  8%|▊         | 1/13 [00:00<00:11,  1.02it/s]"
     ]
    },
    {
     "name": "stdout",
     "output_type": "stream",
     "text": [
      "0.75 1.25\n",
      "0.625 0.75\n",
      "1.140625 0.625\n",
      "1.25 0.625\n",
      "1.25 0.625\n",
      "1.25 0.625\n",
      "1.25 0.625\n",
      "1.25 0.625\n",
      "1.25 0.625\n"
     ]
    },
    {
     "name": "stderr",
     "output_type": "stream",
     "text": [
      " 15%|█▌        | 2/13 [00:01<00:10,  1.09it/s]"
     ]
    },
    {
     "name": "stdout",
     "output_type": "stream",
     "text": [
      "2.46875 3.15625\n",
      "2.15625 2.46875\n",
      "2.34259033203125 2.15625\n",
      "3.140625 2.15625\n",
      "3.3125 2.15625\n",
      "3.3125 2.15625\n",
      "3.15625 2.15625\n",
      "3.15625 2.15625\n",
      "3.15625 2.15625\n"
     ]
    },
    {
     "name": "stderr",
     "output_type": "stream",
     "text": [
      " 23%|██▎       | 3/13 [00:02<00:08,  1.13it/s]"
     ]
    },
    {
     "name": "stdout",
     "output_type": "stream",
     "text": [
      "6.671875 7.8887939453125\n",
      "5.6484375 6.671875\n",
      "5.34375 5.6484375\n",
      "6.5390625 5.34375\n",
      "7.529296875 5.34375\n",
      "8.51806640625 5.34375\n",
      "7.8984375 5.34375\n",
      "7.8984375 5.34375\n",
      "7.8984375 5.34375\n"
     ]
    },
    {
     "name": "stderr",
     "output_type": "stream",
     "text": [
      " 31%|███       | 4/13 [00:03<00:07,  1.14it/s]"
     ]
    },
    {
     "name": "stdout",
     "output_type": "stream",
     "text": [
      "0.0 31.999176025390625\n",
      "25.599609375 0.0\n",
      "32.00218200683594 0.0\n",
      "32.0 0.0\n",
      "32.001861572265625 0.0\n",
      "32.000885009765625 0.0\n",
      "32.0 0.0\n",
      "32.001861572265625 0.0\n",
      "32.0 0.0\n"
     ]
    },
    {
     "name": "stderr",
     "output_type": "stream",
     "text": [
      " 38%|███▊      | 5/13 [00:04<00:06,  1.16it/s]"
     ]
    },
    {
     "name": "stdout",
     "output_type": "stream",
     "text": [
      "2.0 32.067413330078125\n",
      "25.638671875 2.0\n",
      "32.052886962890625 2.0\n",
      "32.072265625 2.0\n",
      "32.078125 2.0\n",
      "32.0625 2.0\n",
      "32.0625 2.0\n",
      "32.0625 2.0\n",
      "32.0625 2.0\n"
     ]
    },
    {
     "name": "stderr",
     "output_type": "stream",
     "text": [
      " 46%|████▌     | 6/13 [00:05<00:06,  1.14it/s]"
     ]
    },
    {
     "name": "stdout",
     "output_type": "stream",
     "text": [
      "5.875 32.50360107421875\n",
      "26.052734375 5.875\n",
      "32.263671875 5.875\n",
      "32.418701171875 5.875\n",
      "32.471923828125 5.875\n",
      "32.53125 5.875\n",
      "32.50390625 5.875\n",
      "32.50390625 5.875\n"
     ]
    },
    {
     "name": "stderr",
     "output_type": "stream",
     "text": [
      " 54%|█████▍    | 7/13 [00:06<00:05,  1.07it/s]"
     ]
    },
    {
     "name": "stdout",
     "output_type": "stream",
     "text": [
      "32.50390625 5.875\n",
      "64.8203125 65.33404541015625\n",
      "11.0 64.8203125\n",
      "54.3759765625 11.0\n",
      "63.6689453125 11.0\n",
      "65.2159423828125 11.0\n",
      "65.324951171875 11.0\n",
      "65.476318359375 11.0\n",
      "65.476318359375 11.0\n",
      "65.4033203125 11.0\n"
     ]
    },
    {
     "name": "stderr",
     "output_type": "stream",
     "text": [
      " 62%|██████▏   | 8/13 [00:07<00:04,  1.00it/s]"
     ]
    },
    {
     "name": "stdout",
     "output_type": "stream",
     "text": [
      "128.0 127.879638671875\n",
      "128.0 127.879638671875\n",
      "0.0 127.879638671875\n",
      "108.800537109375 0.0\n",
      "124.79927062988281 0.0\n",
      "128.0 0.0\n",
      "128.0 0.0\n",
      "127.99998474121094 0.0\n"
     ]
    },
    {
     "name": "stderr",
     "output_type": "stream",
     "text": [
      " 69%|██████▉   | 9/13 [00:08<00:04,  1.02s/it]"
     ]
    },
    {
     "name": "stdout",
     "output_type": "stream",
     "text": [
      "128.0 0.0\n",
      "978.2000122070312 981.2544555664062\n",
      "977.5994873046875 978.2000122070312\n",
      "969.5999755859375 977.5994873046875\n",
      "959.999755859375 969.5999755859375\n",
      "1024.0 959.999755859375\n",
      "0.0 959.999755859375\n",
      "883.1999206542969 0.0\n",
      "883.1999206542969 0.0\n",
      "1033.6999969482422 0.0\n"
     ]
    },
    {
     "name": "stderr",
     "output_type": "stream",
     "text": [
      " 77%|███████▋  | 10/13 [00:09<00:03,  1.04s/it]"
     ]
    },
    {
     "name": "stdout",
     "output_type": "stream",
     "text": [
      "0.0 42.67112731933594\n",
      "36.98065185546875 0.0\n",
      "45.107574462890625 0.0\n",
      "43.38079833984375 0.0\n",
      "42.66796875 0.0\n",
      "42.66796875 0.0\n",
      "42.66796875 0.0\n",
      "42.66796875 0.0\n",
      "42.66796875 0.0\n"
     ]
    },
    {
     "name": "stderr",
     "output_type": "stream",
     "text": [
      " 85%|████████▍ | 11/13 [00:10<00:02,  1.06s/it]"
     ]
    },
    {
     "name": "stdout",
     "output_type": "stream",
     "text": [
      "85.3592529296875 92.46533203125\n",
      "0.0 85.3592529296875\n",
      "79.75143432617188 0.0\n",
      "93.28233337402344 0.0\n",
      "93.64703369140625 0.0\n",
      "92.79067993164062 0.0\n",
      "92.79067993164062 0.0\n",
      "92.79067993164062 0.0\n"
     ]
    },
    {
     "name": "stderr",
     "output_type": "stream",
     "text": [
      " 92%|█████████▏| 12/13 [00:11<00:01,  1.08s/it]"
     ]
    },
    {
     "name": "stdout",
     "output_type": "stream",
     "text": [
      "92.79067993164062 0.0\n",
      "185.085205078125 188.51007080078125\n",
      "170.873046875 185.085205078125\n",
      "0.0 170.873046875\n",
      "164.7843780517578 0.0\n",
      "186.84445190429688 0.0\n",
      "191.91400146484375 0.0\n",
      "189.19464111328125 0.0\n",
      "189.8656768798828 0.0\n",
      "189.8656768798828 0.0\n"
     ]
    },
    {
     "name": "stderr",
     "output_type": "stream",
     "text": [
      "100%|██████████| 13/13 [00:13<00:00,  1.00s/it]\n"
     ]
    }
   ],
   "source": [
    "def metrics(emap, model, X):\n",
    "    model_output = np.round(model(X).reshape(emap.shape))\n",
    "    return {\n",
    "        \"wce\" : wce(emap, model_output),\n",
    "        \"mre\" : mre(emap, model_output),\n",
    "        \"mae\" : mae(emap, model_output),\n",
    "    }\n",
    "\n",
    "results = []\n",
    "bf = base_features()\n",
    "expansions = [float(2**exp) for exp in range(1,10)]\n",
    "\n",
    "for mname in tqdm.tqdm(multipliers):\n",
    "    multiplier = importlib.import_module(f\"evoapproxlib.{mname}\")\n",
    "    emap = multiplier_output(multiplier, bf[:,0], bf[:,1])\n",
    "    evoapprox_metrics = dict([(a.lower(), getattr(multiplier, a)) for a in attrs])\n",
    "\n",
    "    base = build_model(emap, X=bf)\n",
    "    base_metrics = metrics(emap, base, bf)\n",
    "\n",
    "    expansion = 0\n",
    "    best_mae = base_metrics['mae']\n",
    "    # Grid Search for j=k\n",
    "    for e in expansions:\n",
    "        ours = build_model(emap, expansions=[e], prune=True, X=bf)\n",
    "        cur_mae = metrics(emap, ours, bf)['mae']\n",
    "        print(cur_mae, best_mae)\n",
    "        if cur_mae < best_mae:\n",
    "            expansion = e\n",
    "            best_mae = cur_mae\n",
    "\n",
    "    ours = build_model(emap, expansions=[expansion], prune=True, X=bf)\n",
    "    htp_metrics = metrics(emap, ours, bf)\n",
    "    mask = ~np.isclose(ours.regressor.coef_, 0)\n",
    "    htp_params = {\n",
    "        'coefficients': list(ours.regressor.coef_[mask].tolist()),\n",
    "        'powers': list(ours.poly_transform.powers_[mask].tolist()),\n",
    "        'expansion' : expansion,\n",
    "    }\n",
    "\n",
    "    results.append({\n",
    "        'name' : mname,\n",
    "        'evoapprox_metrics' : evoapprox_metrics,\n",
    "        'htp_params' : htp_params,\n",
    "        'baseline_metrics' : base_metrics,\n",
    "        'htp_metrics' : htp_metrics,\n",
    "    })"
   ]
  },
  {
   "cell_type": "code",
   "execution_count": 9,
   "metadata": {},
   "outputs": [
    {
     "name": "stdout",
     "output_type": "stream",
     "text": [
      "mul8s_1KV6 {'wce': 0.0, 'mre': 0.0, 'mae': 0.0} {'wce': 0.0, 'mre': 0.0, 'mae': 0.0}\n",
      "mul8s_1KV8 {'wce': 4.0, 'mre': 0.9375, 'mae': 1.25} {'wce': 2.0, 'mre': 0.5625, 'mae': 0.625}\n",
      "mul8s_1KV9 {'wce': 13.0, 'mre': 0.8125, 'mae': 3.15625} {'wce': 6.0, 'mre': 1.0, 'mae': 2.15625}\n",
      "mul8s_1KVA {'wce': 38.0, 'mre': 0.92822265625, 'mae': 7.8887939453125} {'wce': 19.0, 'mre': 0.953125, 'mae': 5.34375}\n",
      "mul8s_1KVM {'wce': 65.0, 'mre': 0.9921875, 'mae': 31.999176025390625} {'wce': 0.0, 'mre': 0.0, 'mae': 0.0}\n",
      "mul8s_1KVP {'wce': 72.0, 'mre': 0.992218017578125, 'mae': 32.067413330078125} {'wce': 6.0, 'mre': 0.875, 'mae': 2.0}\n",
      "mul8s_1KVQ {'wce': 90.0, 'mre': 0.99224853515625, 'mae': 32.50360107421875} {'wce': 22.0, 'mre': 0.9375, 'mae': 5.875}\n",
      "mul8s_1KX5 {'wce': 245.0, 'mre': 0.9954071044921875, 'mae': 65.33404541015625} {'wce': 40.0, 'mre': 0.96875, 'mae': 11.0}\n",
      "mul8s_1KXF {'wce': 463.0, 'mre': 0.9951171875, 'mae': 127.879638671875} {'wce': 0.0, 'mre': 0.0, 'mae': 0.0}\n",
      "mul8s_1L12 {'wce': 4548.0, 'mre': 0.9957275390625, 'mae': 981.2544555664062} {'wce': 0.0, 'mre': 0.0, 'mae': 0.0}\n",
      "mul8s_1L2J {'wce': 129.0, 'mre': 0.9923095703125, 'mae': 42.67112731933594} {'wce': 0.0, 'mre': 0.0, 'mae': 0.0}\n",
      "mul8s_1L2L {'wce': 389.0, 'mre': 0.996978759765625, 'mae': 92.46533203125} {'wce': 0.0, 'mre': 0.0, 'mae': 0.0}\n",
      "mul8s_1L2N {'wce': 913.0, 'mre': 0.998291015625, 'mae': 188.51007080078125} {'wce': 0.0, 'mre': 0.0, 'mae': 0.0}\n"
     ]
    }
   ],
   "source": [
    "for r in results:\n",
    "    print(r['name'], r['baseline_metrics'], r['htp_metrics'])"
   ]
  },
  {
   "cell_type": "code",
   "execution_count": 30,
   "metadata": {},
   "outputs": [],
   "source": [
    "import json\n",
    "with open('test.json', 'w+') as f:\n",
    "    json.dump(results, f, indent=4)"
   ]
  },
  {
   "cell_type": "code",
   "execution_count": 7,
   "metadata": {},
   "outputs": [],
   "source": [
    "import torchapprox.operators.htp_models.htp_models_mul8s as htp\n",
    "import torchapprox.utils.evoapprox as evoutil\n",
    "import torch\n",
    "import numpy as np"
   ]
  },
  {
   "cell_type": "code",
   "execution_count": 8,
   "metadata": {},
   "outputs": [
    {
     "data": {
      "text/plain": [
       "<function torchapprox.operators.htp_models.htp_models_mul8s.mul8s_1kv6(base_func, op1, op2, kwargs)>"
      ]
     },
     "execution_count": 8,
     "metadata": {},
     "output_type": "execute_result"
    }
   ],
   "source": [
    "htp['accurate']"
   ]
  },
  {
   "cell_type": "code",
   "execution_count": 9,
   "metadata": {},
   "outputs": [
    {
     "data": {
      "text/plain": [
       "tensor([200])"
      ]
     },
     "execution_count": 9,
     "metadata": {},
     "output_type": "execute_result"
    }
   ],
   "source": [
    "torch.mul(torch.tensor([10]), torch.tensor([20]))"
   ]
  },
  {
   "cell_type": "code",
   "execution_count": 37,
   "metadata": {},
   "outputs": [],
   "source": [
    "lut = evoutil.lut('mul8s_1L12', bitwidth=8, signed=True)"
   ]
  },
  {
   "cell_type": "code",
   "execution_count": 38,
   "metadata": {},
   "outputs": [
    {
     "data": {
      "text/plain": [
       "False"
      ]
     },
     "execution_count": 38,
     "metadata": {},
     "output_type": "execute_result"
    }
   ],
   "source": [
    "np.all(lut == lut.T)"
   ]
  },
  {
   "cell_type": "code",
   "execution_count": 39,
   "metadata": {},
   "outputs": [
    {
     "data": {
      "text/plain": [
       "array([[   0,    0,    0, ...,    0,    0,    0],\n",
       "       [   0,    0,    0, ...,  -64,  -64,  -64],\n",
       "       [   0,    0,    0, ..., -128, -128, -128],\n",
       "       ...,\n",
       "       [   0,    0,    0, ...,  192,  192,  192],\n",
       "       [   0,    0,    0, ...,  128,  128,  128],\n",
       "       [   0,    0,    0, ...,   64,   64,   64]])"
      ]
     },
     "execution_count": 39,
     "metadata": {},
     "output_type": "execute_result"
    }
   ],
   "source": [
    "lut"
   ]
  },
  {
   "cell_type": "code",
   "execution_count": 44,
   "metadata": {},
   "outputs": [],
   "source": [
    "x = np.arange(-128, 128)\n",
    "xx, yy = np.meshgrid(x, x)\n",
    "\n",
    "mname = 'mul8s_1L12'\n",
    "mul = importlib.import_module(f\"evoapproxlib.{mname}\")\n",
    "res = multiplier_output(mul, xx, yy)"
   ]
  },
  {
   "cell_type": "code",
   "execution_count": 49,
   "metadata": {},
   "outputs": [
    {
     "data": {
      "text/plain": [
       "<matplotlib.image.AxesImage at 0x7fc34136fdc0>"
      ]
     },
     "execution_count": 49,
     "metadata": {},
     "output_type": "execute_result"
    },
    {
     "data": {
      "image/png": "[encoded data removed]",
      "text/plain": [
       "<Figure size 640x480 with 1 Axes>"
      ]
     },
     "metadata": {},
     "output_type": "display_data"
    }
   ],
   "source": [
    "plt.imshow(res, cmap='RdBu')"
   ]
  },
  {
   "cell_type": "code",
   "execution_count": null,
   "metadata": {},
   "outputs": [],
   "source": []
  }
 ],
 "metadata": {
  "kernelspec": {
   "display_name": "Python 3.8.10 ('.venv': poetry)",
   "language": "python",
   "name": "python3"
  },
  "language_info": {
   "codemirror_mode": {
    "name": "ipython",
    "version": 3
   },
   "file_extension": ".py",
   "mimetype": "text/x-python",
   "name": "python",
   "nbconvert_exporter": "python",
   "pygments_lexer": "ipython3",
   "version": "3.8.10"
  },
  "orig_nbformat": 4,
  "vscode": {
   "interpreter": {
    "hash": "21ca7a3a434aac1b7012d03dfba7994e9dea88e405d4042a505b1670b651b470"
   }
  }
 },
 "nbformat": 4,
 "nbformat_minor": 2
}
