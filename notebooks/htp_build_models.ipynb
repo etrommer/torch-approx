{
 "cells": [
  {
   "cell_type": "code",
   "execution_count": null,
   "metadata": {},
   "outputs": [],
   "source": [
    "import numpy as np\n",
    "import matplotlib.pyplot as plt\n",
    "import sklearn\n",
    "import pandas as pd\n",
    "import pkgutil\n",
    "import importlib\n",
    "import tqdm"
   ]
  },
  {
   "cell_type": "code",
   "execution_count": null,
   "metadata": {},
   "outputs": [],
   "source": [
    "import evoapproxlib as eal\n",
    "bitwidth = 12\n",
    "multipliers = [m.name for m in pkgutil.iter_modules(eal.__path__) if f'mul{bitwidth}s_' in m.name]\n",
    "attrs = ['MAE_PERCENT', 'MAE', 'WCE_PERCENT', 'WCE', 'WCRE_PERCENT', 'EP_PERCENT', 'MRE_PERCENT', 'MSE', 'PDK45_PWR', 'PDK45_AREA', 'PDK45_DELAY']\n",
    "for m in multipliers:\n",
    "    print(m)"
   ]
  },
  {
   "cell_type": "code",
   "execution_count": null,
   "metadata": {},
   "outputs": [],
   "source": [
    "def multiplier_output(multiplier, bitwidth, x, y, signed=True):\n",
    "    axmul = np.vectorize(multiplier.calc)\n",
    "    z = axmul(x, y)\n",
    "    if signed:\n",
    "        z[z >= 2**(2*bitwidth-1)] -= 2**(2*bitwidth)\n",
    "    return z"
   ]
  },
  {
   "cell_type": "code",
   "execution_count": null,
   "metadata": {},
   "outputs": [],
   "source": [
    "from sklearn import linear_model\n",
    "from sklearn.preprocessing import PolynomialFeatures\n",
    "from sklearn.pipeline import Pipeline\n",
    "\n",
    "def sampled_features(bitwidth, num_samples=int(1e6)):\n",
    "    rng = np.random.default_rng(42)\n",
    "    x = np.sort(rng.integers(low=-2**(bitwidth-1), high=2**(bitwidth-1), size=num_samples))\n",
    "    y = np.sort(rng.integers(low=-2**(bitwidth-1), high=2**(bitwidth-1), size=num_samples))\n",
    "    return np.vstack([x, y]).T\n",
    "\n",
    "def base_features(bitwidth):\n",
    "    x = np.arange(-2**(bitwidth-1), 2**(bitwidth-1))\n",
    "    xx, yy = np.meshgrid(x, x, indexing='ij')\n",
    "    X = np.vstack([xx.flatten(), yy.flatten()]).T\n",
    "    return X\n",
    "\n",
    "def build_model(emap, expansions=[], prune=False, X=None):\n",
    "    def mod_features(X):\n",
    "        return np.hstack([X] + [X % sc for sc in expansions])\n",
    "\n",
    "    # Fit over entire output space\n",
    "    if X is None:\n",
    "        X = sampled_features(bitwidth=bitwidth)\n",
    "\n",
    "    # Build feature transformations\n",
    "    # Add Modulo features\n",
    "    features = mod_features(X)\n",
    "    # Polynomial Expansion\n",
    "    poly = PolynomialFeatures(degree=2, interaction_only=False)\n",
    "    features = poly.fit_transform(features)\n",
    "\n",
    "    # Build Model\n",
    "    reg = linear_model.LinearRegression()\n",
    "    reg = reg.fit(features, emap)\n",
    "    \n",
    "    # Drop small coefficients\n",
    "    if prune:\n",
    "        reg.coef_ = reg.coef_.round(decimals=1)\n",
    "\n",
    "    class Predictor():\n",
    "        def __init__(self, mod, poly, regressor):\n",
    "            self.mod_transform = mod\n",
    "            self.poly_transform = poly\n",
    "            self.regressor = regressor\n",
    "\n",
    "        def __call__(self, X):\n",
    "            features = self.mod_transform(X)\n",
    "            features = self.poly_transform.fit_transform(features)\n",
    "            return self.regressor.predict(features)\n",
    "\n",
    "    return Predictor(mod_features, poly, reg)"
   ]
  },
  {
   "cell_type": "code",
   "execution_count": null,
   "metadata": {},
   "outputs": [],
   "source": [
    "def wce(emap, model_output):\n",
    "    ans = np.abs(emap-model_output)\n",
    "    return np.max(ans)\n",
    "\n",
    "def mae(emap, model_output):\n",
    "    ans = np.abs(emap-model_output)\n",
    "    return np.mean(ans)\n",
    "\n",
    "def mre(emap, model_output):\n",
    "    ans = np.abs(emap-model_output)\n",
    "    div = np.maximum(np.ones_like(ans), ans)\n",
    "    return np.mean(ans/div)"
   ]
  },
  {
   "cell_type": "code",
   "execution_count": null,
   "metadata": {},
   "outputs": [],
   "source": [
    "def metrics(emap, model, X):\n",
    "    model_output = np.round(model(X).reshape(emap.shape))\n",
    "    return {\n",
    "        \"wce\" : wce(emap, model_output),\n",
    "        \"mre\" : mre(emap, model_output),\n",
    "        \"mae\" : mae(emap, model_output),\n",
    "    }\n",
    "\n",
    "results = []\n",
    "if bitwidth == 8:\n",
    "    bf = base_features()\n",
    "else:\n",
    "    bf = sampled_features(bitwidth)\n",
    "\n",
    "expansions = [float(2**exp) for exp in range(1,10)]\n",
    "\n",
    "for mname in tqdm.tqdm(multipliers):\n",
    "    multiplier = importlib.import_module(f\"evoapproxlib.{mname}\")\n",
    "    emap = multiplier_output(multiplier, bitwidth, bf[:,0], bf[:,1])\n",
    "    evoapprox_metrics = dict([(a.lower(), getattr(multiplier, a)) for a in attrs])\n",
    "\n",
    "    base = build_model(emap, X=bf)\n",
    "    base_metrics = metrics(emap, base, bf)\n",
    "\n",
    "    expansion = 0\n",
    "    best_mae = base_metrics['mae']\n",
    "    # Grid Search for j=k\n",
    "    for e in expansions:\n",
    "        ours = build_model(emap, expansions=[e], prune=True, X=bf)\n",
    "        cur_mae = metrics(emap, ours, bf)['mae']\n",
    "        print(cur_mae, best_mae)\n",
    "        if cur_mae < best_mae:\n",
    "            expansion = e\n",
    "            best_mae = cur_mae\n",
    "\n",
    "    ours = build_model(emap, expansions=[expansion], prune=True, X=bf)\n",
    "    htp_metrics = metrics(emap, ours, bf)\n",
    "    mask = ~np.isclose(ours.regressor.coef_, 0)\n",
    "    htp_params = {\n",
    "        'coefficients': list(ours.regressor.coef_[mask].tolist()),\n",
    "        'powers': list(ours.poly_transform.powers_[mask].tolist()),\n",
    "        'expansion' : expansion,\n",
    "    }\n",
    "\n",
    "    results.append({\n",
    "        'name' : mname,\n",
    "        'evoapprox_metrics' : evoapprox_metrics,\n",
    "        'htp_params' : htp_params,\n",
    "        'baseline_metrics' : base_metrics,\n",
    "        'htp_metrics' : htp_metrics,\n",
    "    })"
   ]
  },
  {
   "cell_type": "code",
   "execution_count": null,
   "metadata": {},
   "outputs": [],
   "source": [
    "for r in results:\n",
    "    print(r['name'], r['baseline_metrics'], r['htp_metrics'])"
   ]
  },
  {
   "cell_type": "code",
   "execution_count": null,
   "metadata": {},
   "outputs": [],
   "source": [
    "import json\n",
    "with open(f'mul{bitwidth}.json', 'w+') as f:\n",
    "    json.dump(results, f, indent=4)"
   ]
  },
  {
   "cell_type": "code",
   "execution_count": null,
   "metadata": {},
   "outputs": [],
   "source": [
    "import torchapprox.operators.htp_models.htp_models_mul8s as htp\n",
    "import torchapprox.utils.evoapprox as evoutil\n",
    "import torch\n",
    "import numpy as np"
   ]
  },
  {
   "cell_type": "code",
   "execution_count": null,
   "metadata": {},
   "outputs": [],
   "source": [
    "htp['accurate']"
   ]
  },
  {
   "cell_type": "code",
   "execution_count": null,
   "metadata": {},
   "outputs": [],
   "source": [
    "torch.mul(torch.tensor([10]), torch.tensor([20]))"
   ]
  },
  {
   "cell_type": "code",
   "execution_count": null,
   "metadata": {},
   "outputs": [],
   "source": [
    "lut = evoutil.lut('mul8s_1L12', bitwidth=8, signed=True)"
   ]
  },
  {
   "cell_type": "code",
   "execution_count": null,
   "metadata": {},
   "outputs": [],
   "source": [
    "np.all(lut == lut.T)"
   ]
  },
  {
   "cell_type": "code",
   "execution_count": null,
   "metadata": {},
   "outputs": [],
   "source": [
    "lut"
   ]
  },
  {
   "cell_type": "code",
   "execution_count": null,
   "metadata": {},
   "outputs": [],
   "source": [
    "x = np.arange(-128, 128)\n",
    "xx, yy = np.meshgrid(x, x)\n",
    "\n",
    "mname = 'mul8s_1L12'\n",
    "mul = importlib.import_module(f\"evoapproxlib.{mname}\")\n",
    "res = multiplier_output(mul, xx, yy)"
   ]
  },
  {
   "cell_type": "code",
   "execution_count": null,
   "metadata": {},
   "outputs": [],
   "source": [
    "plt.imshow(res, cmap='RdBu')"
   ]
  },
  {
   "cell_type": "code",
   "execution_count": null,
   "metadata": {},
   "outputs": [],
   "source": []
  }
 ],
 "metadata": {
  "kernelspec": {
   "display_name": "Python 3.8.10 ('.venv': poetry)",
   "language": "python",
   "name": "python3"
  },
  "language_info": {
   "codemirror_mode": {
    "name": "ipython",
    "version": 3
   },
   "file_extension": ".py",
   "mimetype": "text/x-python",
   "name": "python",
   "nbconvert_exporter": "python",
   "pygments_lexer": "ipython3"
  },
  "vscode": {
   "interpreter": {
    "hash": "21ca7a3a434aac1b7012d03dfba7994e9dea88e405d4042a505b1670b651b470"
   }
  }
 },
 "nbformat": 4,
 "nbformat_minor": 2
}
