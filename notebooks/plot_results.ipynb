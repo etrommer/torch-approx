{
 "cells": [
  {
   "cell_type": "code",
   "execution_count": 125,
   "metadata": {},
   "outputs": [
    {
     "name": "stdout",
     "output_type": "stream",
     "text": [
      "The autoreload extension is already loaded. To reload it, use:\n",
      "  %reload_ext autoreload\n"
     ]
    }
   ],
   "source": [
    "%load_ext autoreload\n",
    "%autoreload 2"
   ]
  },
  {
   "cell_type": "code",
   "execution_count": 126,
   "metadata": {},
   "outputs": [],
   "source": [
    "import numpy as np\n",
    "import pandas as pd\n",
    "import matplotlib.pyplot as plt\n",
    "import matplotlib.ticker as ticker\n",
    "import seaborn as sns\n",
    "import json\n",
    "import os\n",
    "import re"
   ]
  },
  {
   "cell_type": "code",
   "execution_count": 127,
   "metadata": {},
   "outputs": [],
   "source": [
    "import matplotlib.font_manager as fm\n",
    "\n",
    "font_files = fm.findSystemFonts(fontpaths=['/mnt/c/Windows/Fonts', '/mnt/c/Users/trommer/AppData/Local/Microsoft/Windows/Fonts'], fontext='otf')\n",
    "\n",
    "for font_file in font_files:\n",
    "    fm.fontManager.addfont(font_file)\n",
    "\n",
    "import matplotlib as mpl\n",
    "#mpl.rcParams['font.family'] = 'Neue Haas Grotesk Text Pro'\n",
    "# mpl.rcParams['font.family'] = 'Linux Biolinum'\n",
    "mpl.rcParams['font.family'] = 'CMU Sans Serif'\n",
    "\n",
    "plt.rcParams['font.size'] = 8\n",
    "plt.rcParams['axes.linewidth'] = 1\n",
    "plt.rcParams['axes.axisbelow'] = True\n",
    "\n",
    "colors = sns.color_palette('Set2')\n",
    "sns.set_palette('Set2')"
   ]
  },
  {
   "cell_type": "code",
   "execution_count": 128,
   "metadata": {},
   "outputs": [],
   "source": [
    "def read_results(path):\n",
    "    with open(path, 'r') as f:\n",
    "        data = json.load(f)\n",
    "    benchmarks = data['benchmarks']\n",
    "\n",
    "    res = []\n",
    "    for b in benchmarks:\n",
    "        flat_dict = {**b['params'], **b['stats']}\n",
    "        res.append(flat_dict)\n",
    "\n",
    "    df = pd.DataFrame.from_records(res)\n",
    "    b_name = os.path.basename(path)\n",
    "    f_name, _ = os.path.splitext(b_name)\n",
    "    df['filename'] = f_name\n",
    "    return df"
   ]
  },
  {
   "cell_type": "code",
   "execution_count": 129,
   "metadata": {},
   "outputs": [],
   "source": [
    "ta = read_results('benchmark_results/221215_conv_layer_torchapprox.json')\n",
    "tf = read_results('benchmark_results/221215_conv_layer_tfapprox.json')\n",
    "df = pd.concat([ta, tf], ignore_index=True)\n",
    "df.loc[df.bench_type.isna(), 'bench_type'] = 'tfapprox'\n",
    "df.bench_type = df.bench_type.apply(lambda s: s[0] if isinstance(s, list) else s)\n",
    "df.sort_values(['channels', 'bench_type'], inplace=True, ignore_index=True)\n",
    "df = df[~(df.bench_type.str.contains('mul12') | df.bench_type.str.contains('mul16'))]\n",
    "df = df[df.channels > 1].reset_index(drop=True)"
   ]
  },
  {
   "cell_type": "code",
   "execution_count": 130,
   "metadata": {},
   "outputs": [
    {
     "data": {
      "image/png": "[encoded data removed]",
      "text/plain": [
       "<Figure size 350x270 with 1 Axes>"
      ]
     },
     "metadata": {},
     "output_type": "display_data"
    }
   ],
   "source": [
    "fig = plt.figure(figsize=(3.5,2.7))\n",
    "ax = fig.add_subplot(111)\n",
    "\n",
    "\n",
    "# ax.yaxis.set_tick_params(which='minor', size=2, width=0.75)\n",
    "\n",
    "params = [\n",
    "    \n",
    "    ('mul8s', 'HTP, EvoApp. 8-Bit', 'o'),\n",
    "    ('lut','LUT, TorchApprox', 's'),\n",
    "    ('tfapprox', 'LUT, TFApprox', '^'),\n",
    "]\n",
    "for key, name, marker in params:\n",
    "    models = df[df.bench_type.str.contains(key)]\n",
    "    if key == 'mul8s':\n",
    "        means = models.groupby('channels')['median'].agg('mean')\n",
    "        stds = models.groupby('channels')['median'].agg('std')\n",
    "        x = np.unique(models.channels)\n",
    "        plt.errorbar(x, means.values * 1000, yerr=stds.values * 1000, label=name, capsize = 1.5, linestyle='--', ecolor=colors[0], elinewidth=0.8, markersize=4.0, marker=marker, markeredgecolor='black', barsabove=False, zorder=3)\n",
    "        # plt.errorbar(x, means.values * 1000, yerr=stds.values * 1000)\n",
    "    else:\n",
    "        plt.plot(models.channels, models['median'] * 1000, label=name, marker=marker, linestyle='--', markersize=5.0, markeredgecolor='black', markeredgewidth=0.8)\n",
    "\n",
    "ax.set_yscale('log')\n",
    "ax.set_xscale('log')\n",
    "ax.set_xlabel('Number of Channels', fontsize=7)\n",
    "ax.set_ylabel('Median Execution Time [ms]', fontsize=7)\n",
    "ax.spines['right'].set_visible(False)\n",
    "ax.spines['top'].set_visible(False)\n",
    "ax.spines['left'].set_position(('outward', 6))\n",
    "ax.spines['bottom'].set_position(('outward', 4))\n",
    "ax.spines['bottom'].set_bounds(2, 64)\n",
    "\n",
    "ax.set_xticks(np.unique(df.channels))\n",
    "ax.set_xticklabels(np.unique(df.channels), fontsize=7)\n",
    "ax.xaxis.set_tick_params(which='major', size=2, width=1)\n",
    "ax.xaxis.set_tick_params(which='minor', bottom=False)\n",
    "\n",
    "ax.yaxis.set_tick_params(which='major', size=5, width=1, direction='out')\n",
    "ax.yaxis.set_tick_params(which='minor', size=2, width=0.75, direction='out')\n",
    "ax.yaxis.grid(linestyle='dotted')\n",
    "#ax.set_ylim(2e-1, 1e3)\n",
    "# ax.set_xlim(1.4,70)\n",
    "\n",
    "ax.legend(loc='upper left', fontsize=7)\n",
    "plt.tight_layout()\n",
    "plt.savefig('/mnt/c/Users/trommer/Desktop/torchapprox-tcad/figures/plots/conv2d_benchmark.pdf', bbox_inches='tight')\n",
    "plt.show()\n",
    "    "
   ]
  },
  {
   "cell_type": "code",
   "execution_count": 131,
   "metadata": {},
   "outputs": [
    {
     "data": {
      "text/plain": [
       "17     1.814306\n",
       "35     1.644143\n",
       "53     1.746924\n",
       "71     1.926632\n",
       "89     2.316555\n",
       "107    3.552253\n",
       "Name: median, dtype: float64"
      ]
     },
     "execution_count": 131,
     "metadata": {},
     "output_type": "execute_result"
    }
   ],
   "source": [
    "from scipy.stats import gmean\n",
    "vals = df[df.bench_type == 'tfapprox']['median'] / df[df.bench_type.str.contains('mul8')].groupby('channels')['median'].agg('mean').values\n",
    "vals"
   ]
  },
  {
   "cell_type": "code",
   "execution_count": 132,
   "metadata": {},
   "outputs": [],
   "source": [
    "pretty_names = {\n",
    "    'alexnet' : 'AlexNet',\n",
    "    'effcientnet_b0' : 'EfficientNetB0',\n",
    "    'mobilenet_v2' : 'MobileNetV2',\n",
    "    'resnet18' : 'ResNet18',\n",
    "    'resnet50' : 'ResNet50',\n",
    "    'vgg16' : 'VGG16',\n",
    "}\n",
    "df = read_results('benchmark_results/221205_networks.json')\n",
    "df.loc[df.bench_type.isna(), 'bench_type'] = 'adaPT'\n",
    "df.bench_type = df.bench_type.apply(lambda s: s[0] if isinstance(s, list) else s)\n",
    "df = df.loc[~df.bench_type.str.contains(\"accurate\")]\n",
    "df.bench_architecture = df.bench_architecture.map(pretty_names)\n",
    "df.sort_values(['bench_architecture', 'bench_type'], inplace=True, ignore_index=True)"
   ]
  },
  {
   "cell_type": "code",
   "execution_count": 133,
   "metadata": {},
   "outputs": [
    {
     "name": "stdout",
     "output_type": "stream",
     "text": [
      "35.699849129724136\n",
      "96.42065462102792\n",
      "2.7008700868919604\n",
      "2       9.720705\n",
      "41      1.932220\n",
      "80      2.000238\n",
      "119     7.303726\n",
      "158     5.498940\n",
      "197    16.663679\n",
      "Name: median, dtype: float64\n"
     ]
    }
   ],
   "source": [
    "print(gmean(df[df.bench_type == 'adaPT']['median'] / df[df.bench_type.str.contains('lut')].groupby('bench_architecture')['median'].agg('mean').values))\n",
    "print(gmean(df[df.bench_type == 'adaPT']['median'] / df[df.bench_type.str.contains('mul8s')].groupby('bench_architecture')['median'].agg('mean').values))\n",
    "print(gmean(df[df.bench_type == 'lut']['median'] / df[df.bench_type.str.contains('mul8s')].groupby('bench_architecture')['median'].agg('mean').values))\n",
    "print((df[df.bench_type == 'lut']['median'] / df[df.bench_type.str.contains('baseline')].groupby('bench_architecture')['median'].agg('mean').values))"
   ]
  },
  {
   "cell_type": "code",
   "execution_count": 134,
   "metadata": {},
   "outputs": [
    {
     "data": {
      "image/png": "[encoded data removed]",
      "text/plain": [
       "<Figure size 710x280 with 1 Axes>"
      ]
     },
     "metadata": {},
     "output_type": "display_data"
    }
   ],
   "source": [
    "params = [\n",
    "    # ('mul8s_1L2D', 'HTP Model 1L2D', '///'),\n",
    "    ('mul8s', 'HTP, 8-Bit', '\\\\\\\\\\\\\\\\', 0),\n",
    "    ('mul12s', 'HTP, 12-Bit', '////', 1),\n",
    "    ('mul16s', 'HTP, 16-Bit', 'xxxx', 2),\n",
    "    ('lut', 'LUT, TorchApprox', '/////', 1),\n",
    "    ('adaPT', 'LUT, adaPT', '...', 2),\n",
    "    ('baseline', 'Quant. only', None, 3),\n",
    "]\n",
    "\n",
    "width = 0.8/len(params)\n",
    "\n",
    "fig = plt.figure(figsize=(7.1,2.8))\n",
    "ax = fig.add_subplot(111)\n",
    "colors = sns.color_palette('Set2')\n",
    "\n",
    "for i, (key, label, hatch, c_idx) in enumerate(params):\n",
    "    ans = df[df.bench_type.str.contains(key)]\n",
    "    x = np.arange(len(np.unique(ans.bench_architecture))) + i*width\n",
    "    if key == 'baseline':\n",
    "        ax.bar(x, height=ans['median'].values * 1000, width=width, align='edge', edgecolor='grey', hatch='----', color = 'lightgrey', label=label, zorder=1)\n",
    "    elif 'mul' in key:\n",
    "        palette = sns.dark_palette(colors[0], 5, reverse=True)\n",
    "        means = ans.groupby('bench_architecture')['median'].agg('mean')\n",
    "        stds = ans.groupby('bench_architecture')['median'].agg('std')\n",
    "        ax.bar(x, height=means.values * 1000, yerr=stds.values * 1000, capsize=1.2, error_kw = {'lw':0.6, 'mew': 0.6}, width=width, align='edge', edgecolor='black', color = palette[c_idx], label=label, zorder=2)\n",
    "    else:\n",
    "        ax.bar(x, height=ans['median'].values * 1000, width=width, align='edge', edgecolor='black', color = colors[c_idx], hatch=hatch, label=label, zorder=2)\n",
    "\n",
    "labels = np.unique(df.bench_architecture)\n",
    "ax.xaxis.set_ticks(np.arange(len(labels)) + len(params)/2 * width, labels, size=7)\n",
    "ax.xaxis.set_tick_params(bottom=False)\n",
    "# ax.set_xlim(-0.4, len(np.unique(df.bench_architecture))+0.2)\n",
    "\n",
    "import matplotlib.ticker as ticker\n",
    "\n",
    "ax.set_yscale('log')\n",
    "ax.set_ylabel('Median Execution Time [ms]', fontsize=7)\n",
    "# ax.set_ylim(5, 1e5)\n",
    "ax.yaxis.set_major_locator(ticker.LogLocator(numticks=5))\n",
    "ax.yaxis.set_tick_params(which='major', size=4, width=1, direction='out')\n",
    "ax.yaxis.set_tick_params(which='minor', size=2, width=0.75, direction='out')\n",
    "ax.yaxis.grid(which='major', linestyle='dotted')\n",
    "\n",
    "ax.spines['left'].set_position(('outward', 8))\n",
    "ax.spines['right'].set_visible(False)\n",
    "ax.spines['top'].set_visible(False)\n",
    "ax.legend(ncol=6, frameon=False, loc='upper left', bbox_to_anchor=(-0.02, 1.15), fontsize=7)\n",
    "\n",
    "plt.tight_layout()\n",
    "plt.savefig('/mnt/c/Users/trommer/Desktop/torchapprox-tcad/figures/plots/network_benchmark.pdf', bbox_inches='tight')\n",
    "plt.show() "
   ]
  },
  {
   "cell_type": "code",
   "execution_count": 135,
   "metadata": {},
   "outputs": [],
   "source": [
    "def report_accuracy(path, target_metric):\n",
    "    df = pd.read_csv(path).loc[:,['Duration', 'Name', 'epochs',target_metric]]\n",
    "    df = df.drop(df.index[df.Name.str.contains('QAT Model') | df.Name.str.contains('Baseline Model')])\n",
    "\n",
    "    df.loc[df.Name.str.contains('Noise'),'type'] = 'noise'\n",
    "    df.loc[df.Name.str.contains('Behavioral'),'type'] = 'behavioral'\n",
    "    df.loc[df.Name.str.contains('Baseline'),'type'] = 'baseline'\n",
    "    df.loc[df.Name.str.contains('HTP'),'type'] = 'htp'\n",
    "\n",
    "\n",
    "    def time_to_float(s: str) -> float:\n",
    "        t = float(re.findall(r'\\d*.\\d{1,2}', s)[0])\n",
    "        if 'min' in s:\n",
    "            t *= 60\n",
    "        return t\n",
    "\n",
    "    def mul_name(s: str) -> str:\n",
    "        return re.findall(r'mul8s_[\\w\\d]{4}', s)[0]\n",
    "        \n",
    "    df.Duration = df.Duration.map(time_to_float)\n",
    "    df['Multiplier'] = df.Name.map(mul_name)\n",
    "\n",
    "    for m in np.unique(df.Multiplier):\n",
    "        bl = df.loc[(df.Multiplier == m) & (df.type=='behavioral'), target_metric].values[0]\n",
    "        df.loc[df.Multiplier == m, 'Deviation'] = df.loc[df.Multiplier == m, target_metric] - bl\n",
    "\n",
    "        bl = df.loc[(df.Multiplier == m) & (df.type=='baseline'), 'Duration'].values[0]\n",
    "        df.loc[df.Multiplier == m, 'Overhead'] = (df.loc[df.Multiplier == m, 'Duration'] / bl) -1.0\n",
    "    df.Deviation = df.Deviation.abs()\n",
    "\n",
    "    def print_result(df: pd.DataFrame, key: str, scale=1.0):\n",
    "        mean = (df.groupby('type')[key].agg('mean') * scale).round(2)\n",
    "        std = (df.groupby('type')[key].agg('std') * scale).round(2)\n",
    "\n",
    "        print(\"\\n\" + key.upper())\n",
    "        for m, s, l in zip(mean, std, mean.index):\n",
    "            print(f\"{l}: {m} $\\pm$ {s}\")\n",
    "    \n",
    "    \n",
    "    print_result(df, target_metric, 100.0)\n",
    "    print_result(df, 'Overhead', 100.0)\n",
    "    print_result(df, 'Deviation', 100.0)"
   ]
  },
  {
   "cell_type": "code",
   "execution_count": 136,
   "metadata": {},
   "outputs": [
    {
     "name": "stdout",
     "output_type": "stream",
     "text": [
      "\n",
      "TEST_ACC_TOP1\n",
      "baseline: 90.34 $\\pm$ 24.86\n",
      "behavioral: 98.87 $\\pm$ 1.13\n",
      "htp: 98.86 $\\pm$ 1.15\n",
      "noise: 92.26 $\\pm$ 24.72\n",
      "\n",
      "OVERHEAD\n",
      "baseline: 0.0 $\\pm$ 0.0\n",
      "behavioral: 24.71 $\\pm$ 2.57\n",
      "htp: 4.04 $\\pm$ 3.15\n",
      "noise: 3.59 $\\pm$ 2.47\n",
      "\n",
      "DEVIATION\n",
      "baseline: 8.54 $\\pm$ 23.77\n",
      "behavioral: 0.0 $\\pm$ 0.0\n",
      "htp: 0.01 $\\pm$ 0.02\n",
      "noise: 6.62 $\\pm$ 23.58\n"
     ]
    }
   ],
   "source": [
    "report_accuracy('accuracy_results/230105_accuracy_lenet5_mnist.csv', 'test_acc_top1')"
   ]
  },
  {
   "cell_type": "code",
   "execution_count": 137,
   "metadata": {},
   "outputs": [
    {
     "name": "stdout",
     "output_type": "stream",
     "text": [
      "\n",
      "TEST_ACC_TOP1\n",
      "baseline: 67.15 $\\pm$ 29.06\n",
      "behavioral: 79.47 $\\pm$ 14.04\n",
      "htp: 79.27 $\\pm$ 14.04\n",
      "noise: 72.1 $\\pm$ 26.54\n",
      "\n",
      "OVERHEAD\n",
      "baseline: 0.0 $\\pm$ 0.0\n",
      "behavioral: 64.49 $\\pm$ 3.47\n",
      "htp: 10.07 $\\pm$ 5.22\n",
      "noise: 10.35 $\\pm$ 1.49\n",
      "\n",
      "DEVIATION\n",
      "baseline: 12.36 $\\pm$ 20.1\n",
      "behavioral: 0.0 $\\pm$ 0.0\n",
      "htp: 0.31 $\\pm$ 0.61\n",
      "noise: 7.43 $\\pm$ 15.2\n"
     ]
    }
   ],
   "source": [
    "report_accuracy('accuracy_results/230105_accuracy_resnet8_cifar.csv', 'test_acc_top1')"
   ]
  },
  {
   "cell_type": "code",
   "execution_count": 138,
   "metadata": {},
   "outputs": [
    {
     "name": "stdout",
     "output_type": "stream",
     "text": [
      "\n",
      "TEST_ACC_TOP1\n",
      "baseline: 56.8 $\\pm$ 17.27\n",
      "behavioral: 57.47 $\\pm$ 17.21\n",
      "htp: 57.39 $\\pm$ 17.18\n",
      "noise: 56.73 $\\pm$ 17.26\n",
      "\n",
      "OVERHEAD\n",
      "baseline: 0.0 $\\pm$ 0.0\n",
      "behavioral: 341.9 $\\pm$ 11.2\n",
      "htp: 16.72 $\\pm$ 9.47\n",
      "noise: 1.88 $\\pm$ 1.31\n",
      "\n",
      "DEVIATION\n",
      "baseline: 0.73 $\\pm$ 1.94\n",
      "behavioral: 0.0 $\\pm$ 0.0\n",
      "htp: 0.08 $\\pm$ 0.26\n",
      "noise: 0.78 $\\pm$ 1.93\n"
     ]
    }
   ],
   "source": [
    "report_accuracy('accuracy_results/230109_accuracy_vgg16_tinyimagenet.csv', 'test_acc_top1')"
   ]
  },
  {
   "cell_type": "code",
   "execution_count": 139,
   "metadata": {},
   "outputs": [],
   "source": [
    "import json"
   ]
  },
  {
   "cell_type": "code",
   "execution_count": 140,
   "metadata": {},
   "outputs": [],
   "source": [
    "flat_dict = {}\n",
    "\n",
    "for bw in [8, 12, 16]:\n",
    "    fname = f\"htp_params_mul{bw}s.json\"\n",
    "    with open(fname, 'r') as fh:\n",
    "        data = json.load(fh)\n",
    "    for mul in data:\n",
    "        d1 = dict(('poly_' + k, v) for k,v in mul['baseline_metrics'].items()) \n",
    "        d1.update(dict(('htp_' + k, v) for k,v in mul['htp_metrics'].items()))\n",
    "        d1['coefficients'] = len(mul['htp_params']['coefficients'])\n",
    "        flat_dict[mul['name']] = d1 "
   ]
  },
  {
   "cell_type": "code",
   "execution_count": 141,
   "metadata": {},
   "outputs": [],
   "source": [
    "df = pd.DataFrame.from_dict(flat_dict, orient=\"index\")"
   ]
  },
  {
   "cell_type": "code",
   "execution_count": 142,
   "metadata": {},
   "outputs": [
    {
     "data": {
      "text/plain": [
       "poly_mre    0.879444\n",
       "htp_mre     0.326667\n",
       "dtype: float64"
      ]
     },
     "execution_count": 142,
     "metadata": {},
     "output_type": "execute_result"
    }
   ],
   "source": [
    "np.round(df,2).loc[:,['poly_mre', 'htp_mre']].mean()"
   ]
  },
  {
   "cell_type": "code",
   "execution_count": 143,
   "metadata": {},
   "outputs": [],
   "source": [
    "lenet = pd.read_csv('accuracy_results/231013_affine_vs_per_tensor_lenet5.csv')\n",
    "resnet = pd.read_csv('accuracy_results/231016_affine_vs_per_tensor_resnet8.csv')"
   ]
  },
  {
   "cell_type": "code",
   "execution_count": 144,
   "metadata": {},
   "outputs": [
    {
     "data": {
      "image/png": "[encoded data removed]",
      "text/plain": [
       "<Figure size 350x280 with 2 Axes>"
      ]
     },
     "metadata": {},
     "output_type": "display_data"
    }
   ],
   "source": [
    "\n",
    "fig = plt.figure(figsize=(3.5, 2.8))\n",
    "ax = fig.gca()\n",
    "\n",
    "def plot_bitwidth_accuracy(ax, df):\n",
    "    data = []\n",
    "    ax.spines['top'].set_visible(False)\n",
    "    ax.spines['left'].set_position(('outward', 8))\n",
    "    ax.spines['right'].set_position(('outward', 8))\n",
    "    ax.spines['left'].set_bounds(0.05,1.0)\n",
    "    ax.spines['right'].set_bounds(0.05,1.0)\n",
    "\n",
    "\n",
    "    ax.tick_params(axis='y', which='both', right=True, labelright=False, direction='in', labelsize=9)\n",
    "    ax.tick_params(axis='x', labelsize=7)\n",
    "    ax.set_ylabel('Top-1 Accuracy', fontsize=7)\n",
    "    ax.yaxis.set_label_position('right')\n",
    "\n",
    "    ax.yaxis.set_major_locator(ticker.MultipleLocator(0.2))\n",
    "    ax.yaxis.set_minor_locator(ticker.MultipleLocator(0.05))\n",
    "    ax.yaxis.set_major_formatter(ticker.PercentFormatter(xmax=1.0, decimals=0))\n",
    "    ax.yaxis.grid(visible=True, ls=':')\n",
    "\n",
    "    ax2 = ax.twiny()\n",
    "    ax2.spines['top'].set_visible(False)\n",
    "    ax2.spines['left'].set_visible(False)\n",
    "    ax2.spines['right'].set_visible(False)\n",
    "    ax2.spines['bottom'].set_visible(False)\n",
    "    ax2.spines['bottom'].set_position(('outward', 12))\n",
    "    ax2.tick_params(axis='x', which='both', labelbottom=True, top=False, labeltop=False, labelsize=9)\n",
    "    ax2.set_xticks(np.arange(3)*0.34+0.17, [\"2-Bit\", \"3-Bit\", \"4-Bit\"])\n",
    "\n",
    "    for bw in [2,3,4]:\n",
    "        for resolution in [\"per_tensor\", \"per_channel\"]:\n",
    "            res = df[df.qtype == f\"8x{bw}_affine_{resolution}\"]\n",
    "            data.append(res.test_acc_top1)\n",
    "\n",
    "    pos = np.arange(len(data), dtype=np.float64)\n",
    "    pos[1::2] -= 0.2\n",
    "    bpl = ax.boxplot(data, positions=pos, widths=0.5, patch_artist=True, showfliers=False, medianprops={'color': 'black', 'alpha': 0.35}, capprops={'alpha': 0.35}, whiskerprops={'alpha': 0.35}, zorder=0)\n",
    "\n",
    "    cols = sns.color_palette('Set2', 3)\n",
    "    for i, (b, d, p) in enumerate(zip(bpl['boxes'], data, pos)):\n",
    "        b.set_facecolor(cols[i//2])\n",
    "        b.set(alpha=0.35)\n",
    "        # x_idx = p * np.ones(len(d)) + 0.1 + np.random.rand(len(d)) * 0.25\n",
    "        x_idx = p * np.ones(len(d)) + np.random.rand(len(d)) * 0.45 - 0.225\n",
    "        ax.scatter(x_idx, d, color=cols[i//2], s=5, zorder=1, edgecolors='black', linewidth=0.5)\n",
    "\n",
    "    ax.set_xticklabels(['tensor', 'channel'] * 3)\n",
    "\n",
    "lenet = lenet[lenet.gradient_clip == 0.5]\n",
    "plot_bitwidth_accuracy(ax, lenet)\n",
    "plt.tight_layout()\n",
    "plt.savefig('/mnt/c/Users/trommer/Desktop/torchapprox-tcad/figures/plots/quant_accuracy_lenet.pdf', bbox_inches='tight')\n",
    "plt.show()\n"
   ]
  },
  {
   "cell_type": "code",
   "execution_count": 145,
   "metadata": {},
   "outputs": [
    {
     "data": {
      "text/plain": [
       "{'8x4_affine_per_channel', '8x4_affine_per_tensor', nan}"
      ]
     },
     "execution_count": 145,
     "metadata": {},
     "output_type": "execute_result"
    }
   ],
   "source": [
    "set(resnet.qtype)"
   ]
  },
  {
   "cell_type": "code",
   "execution_count": 146,
   "metadata": {},
   "outputs": [
    {
     "data": {
      "image/png": "[encoded data removed]",
      "text/plain": [
       "<Figure size 350x220 with 1 Axes>"
      ]
     },
     "metadata": {},
     "output_type": "display_data"
    }
   ],
   "source": [
    "fig = plt.figure(figsize=(3.5, 2.2))\n",
    "ax = plt.gca()\n",
    "baseline_acc = resnet[resnet.Name == 'Baseline Model'].test_acc_top1.iloc[0]\n",
    "ax.spines['top'].set_visible(False)\n",
    "ax.spines['right'].set_visible(False)\n",
    "ax.yaxis.set_major_locator(ticker.MultipleLocator(0.02))\n",
    "ax.yaxis.set_minor_locator(ticker.MultipleLocator(0.01))\n",
    "ax.xaxis.set_major_locator(ticker.MultipleLocator(0.02))\n",
    "ax.xaxis.set_minor_locator(ticker.MultipleLocator(0.01))\n",
    "ax.yaxis.set_major_formatter(ticker.PercentFormatter(xmax=1.0, decimals=0))\n",
    "ax.xaxis.set_major_formatter(ticker.PercentFormatter(xmax=1.0, decimals=0))\n",
    "ax.tick_params(axis='both', which='both', labelsize=9)\n",
    "ax.set_ylabel('Top-1 Accuracy\\nper-channel quantization', fontsize=7)\n",
    "ax.set_xlabel('Top-1 Accuracy\\nper-tensor quantization', fontsize=7)\n",
    "ax.plot(np.linspace(0,baseline_acc,10), np.linspace(0,baseline_acc,10), zorder=0, color='grey', lw=0.5)\n",
    "ax.grid(ls=\":\", lw=0.5)\n",
    "ax.scatter(resnet[resnet.qtype == '8x4_affine_per_tensor'].test_acc_top1, resnet[resnet.qtype == '8x4_affine_per_channel'].test_acc_top1, color=colors[2], linewidth=0.5, edgecolors='black', zorder=1, alpha=0.75)\n",
    "ax.hlines(baseline_acc, 0.8, 0.9, ls = \":\", color='grey', lw=1.0, zorder=0)\n",
    "ax.vlines(baseline_acc, 0.8, 0.9, ls = \":\", color='grey', lw=1.0, zorder=0)\n",
    "ax.text(0.802, baseline_acc-0.008, \"FP32 Accuracy\", color='grey')\n",
    "ax.set_ylim(0.8, 0.89)\n",
    "ax.set_xlim(0.8, 0.89)\n",
    "plt.tight_layout()\n",
    "plt.savefig('/mnt/c/Users/trommer/Desktop/torchapprox-tcad/figures/plots/quant_accuracy_resnet.pdf', bbox_inches='tight')\n",
    "plt.show()"
   ]
  },
  {
   "cell_type": "code",
   "execution_count": 149,
   "metadata": {},
   "outputs": [],
   "source": [
    "pt = ['tensor' in q for q in lenet.qtype]\n",
    "pc = ['channel' in q for q in lenet.qtype]"
   ]
  },
  {
   "cell_type": "code",
   "execution_count": 150,
   "metadata": {},
   "outputs": [
    {
     "data": {
      "text/plain": [
       "0.0010999441146848365"
      ]
     },
     "execution_count": 150,
     "metadata": {},
     "output_type": "execute_result"
    }
   ],
   "source": [
    "np.median(lenet[pc].test_acc_top1.values - lenet[pt].test_acc_top1)"
   ]
  },
  {
   "cell_type": "code",
   "execution_count": 172,
   "metadata": {},
   "outputs": [],
   "source": [
    "rt = ['Approximate' in n for n in resnet.Name]\n",
    "resnet = resnet[rt]\n",
    "\n",
    "names = []\n",
    "for m in np.unique(resnet.mul_name):\n",
    "    if (resnet[resnet.mul_name == m].test_acc_top1 >= 0.8).all():\n",
    "        names.append(m)\n",
    "idx = [m in names for m in resnet.mul_name]\n",
    "resnet = resnet[idx]\n",
    "pt = [('tensor' in r) and (q >= 0.8) for r,q in zip(resnet['qtype'], resnet['test_acc_top1'])]\n",
    "pc = [('channel' in r) and (q >= 0.8) for r,q in zip(resnet['qtype'], resnet['test_acc_top1'])]"
   ]
  },
  {
   "cell_type": "markdown",
   "metadata": {},
   "source": []
  },
  {
   "cell_type": "markdown",
   "metadata": {},
   "source": []
  },
  {
   "cell_type": "code",
   "execution_count": 176,
   "metadata": {},
   "outputs": [
    {
     "data": {
      "text/plain": [
       "-0.008861532578101525"
      ]
     },
     "execution_count": 176,
     "metadata": {},
     "output_type": "execute_result"
    }
   ],
   "source": [
    "np.mean(resnet[pt].test_acc_top1.values - resnet[pc].test_acc_top1.values)"
   ]
  },
  {
   "cell_type": "code",
   "execution_count": 170,
   "metadata": {},
   "outputs": [
    {
     "data": {
      "text/plain": [
       "['mul8x4u_291',\n",
       " 'mul8x4u_29A',\n",
       " 'mul8x4u_29C',\n",
       " 'mul8x4u_2DB',\n",
       " 'mul8x4u_2GR',\n",
       " 'mul8x4u_2L5',\n",
       " 'mul8x4u_2TZ',\n",
       " 'mul8x4u_3CY',\n",
       " 'mul8x4u_3N3',\n",
       " 'mul8x4u_3NP',\n",
       " 'mul8x4u_42Z',\n",
       " 'mul8x4u_49L',\n",
       " 'mul8x4u_579']"
      ]
     },
     "execution_count": 170,
     "metadata": {},
     "output_type": "execute_result"
    }
   ],
   "source": [
    "names"
   ]
  },
  {
   "cell_type": "code",
   "execution_count": 160,
   "metadata": {},
   "outputs": [
    {
     "data": {
      "text/plain": [
       "[False, False]"
      ]
     },
     "execution_count": 160,
     "metadata": {},
     "output_type": "execute_result"
    }
   ],
   "source": [
    "pt"
   ]
  },
  {
   "cell_type": "code",
   "execution_count": null,
   "metadata": {},
   "outputs": [],
   "source": []
  }
 ],
 "metadata": {
  "kernelspec": {
   "display_name": ".venv",
   "language": "python",
   "name": "python3"
  },
  "language_info": {
   "codemirror_mode": {
    "name": "ipython",
    "version": 3
   },
   "file_extension": ".py",
   "mimetype": "text/x-python",
   "name": "python",
   "nbconvert_exporter": "python",
   "pygments_lexer": "ipython3",
   "version": "3.9.5"
  },
  "vscode": {
   "interpreter": {
    "hash": "21ca7a3a434aac1b7012d03dfba7994e9dea88e405d4042a505b1670b651b470"
   }
  }
 },
 "nbformat": 4,
 "nbformat_minor": 2
}
